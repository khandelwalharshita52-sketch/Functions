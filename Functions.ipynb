{
  "nbformat": 4,
  "nbformat_minor": 0,
  "metadata": {
    "colab": {
      "provenance": [],
      "collapsed_sections": [
        "9-QmVysvr9o5"
      ]
    },
    "kernelspec": {
      "name": "python3",
      "display_name": "Python 3"
    },
    "language_info": {
      "name": "python"
    }
  },
  "cells": [
    {
      "cell_type": "markdown",
      "source": [
        "# ***THEORY QUESTIONS***\n"
      ],
      "metadata": {
        "id": "-Z6qiTXFt5Wu"
      }
    },
    {
      "cell_type": "markdown",
      "source": [
        "**1. What is the difference between a function and a method in Python?**\n",
        "* In Python, functions and methods are both blocks of code that perform specific tasks.\n",
        "A function is a standalone block of code defined using the def keyword.\n",
        "example:-def greet(name):\n",
        "    return f\"Hello, {name}!\"\n",
        "A method is a function that is associated with an object\n",
        "example:-class Greeter:\n",
        "    def greet(self, name):\n",
        "        return f\"Hello, {name}!\"\n",
        "            "
      ],
      "metadata": {
        "id": "sBpkCctguKsZ"
      }
    },
    {
      "cell_type": "markdown",
      "source": [
        "***2.Explain the concept of function arguments and parameters in Python.***\n",
        "* Function arguments are values that you provide to a function when you call it. These arguments can be used by the function to perform specific tasks...\n",
        "greet(\"Alice\")  # \"Alice\" is an argument.\n",
        "* Parameters are the variables listed inside the parentheses in a function definition.\n",
        "def greet(name):  # 'name' is a parameter\n",
        "    print(f\"Hello, {name}!\")\n"
      ],
      "metadata": {
        "id": "rP15Iokpvv4f"
      }
    },
    {
      "cell_type": "markdown",
      "source": [
        "***3.What are the different ways to define and call a function in Python?***\n",
        "*Different ways to define and call functions are :-\n",
        ". Standard Function Definition (Using def)\n",
        "def greet(name):\n",
        "    return f\"Hello, {name}!\"\n",
        "\n",
        ". Lambda (Anonymous) Functions\n",
        "greet = lambda name: f\"Hello, {name}!\"\n",
        "\n",
        ".  Using *args and **kwargs in Calls\n",
        "def greet(name, greeting=\"Hello\"):\n",
        "    print(f\"{greeting}, {name}!\")\n",
        "\n",
        "args = (\"Alice\",)\n",
        "kwargs = {\"greeting\": \"Hi\"}\n",
        "greet(*args, **kwargs)\n",
        "\n",
        ".. Nested Functions\n",
        "def outer():\n",
        "    def inner():\n",
        "        print(\"Inner function\")\n",
        "    inner()\n",
        "\n"
      ],
      "metadata": {
        "id": "pC4uQF69wusn"
      }
    },
    {
      "cell_type": "markdown",
      "source": [
        "4.*** What is the purpose of the `return` statement in a Python function***\n",
        "The return statement in a Python function serves the purpose of sending a value back to the caller (the code that called the function). It also terminates the function execution immediately.\n",
        "example:-def add(a, b):\n",
        "    return a + b\n",
        "\n",
        "result = add(3, 5)\n",
        "print(result)  # Output: 8\n",
        "\n",
        "\n"
      ],
      "metadata": {
        "id": "sgzPHh91rlc7"
      }
    },
    {
      "cell_type": "markdown",
      "source": [
        "5.***What are iterators in Python and how do they differ from iterables?***\n",
        "* Iterator in python is an object that is used to iterate over iterable objects like lists, tuples, dicts, and sets. The\n",
        "iterator object is initialized using the `iter()` method. It uses the `next()` method for iteration.Example:-\n",
        "mytuple = (\"apple\", \"banana\", \"cherry\")\n",
        "myit = iter(mytuple)\n",
        "print(next(myit))\n",
        "\n"
      ],
      "metadata": {
        "id": "9-QmVysvr9o5"
      }
    },
    {
      "cell_type": "markdown",
      "source": [
        "6. ***Explain the concept of generators in Python and how they are defined***\n",
        "*Generator functions in Python are a way to create iterators in a more concise and memory-efficient manner. These functions allow you to iterate over a potentially large sequence of data without loading the entire\n",
        "sequence into memory.Instead of using return to send a value back to the caller, a generator function uses yield.\n",
        "example:-def count_up_to(n):\n",
        "    i = 1\n",
        "    while i <= n:\n",
        "        yield i\n",
        "        i += 1\n",
        "\n"
      ],
      "metadata": {
        "id": "MancCXwtsimU"
      }
    },
    {
      "cell_type": "markdown",
      "source": [
        "7.***What are the advantages of using generators over regular functions?***\n",
        "*Advantages of using generators over regular functions:-\n",
        "\n",
        ". MEMORY USAGE:- generator function uses less memory as compared to regular function.\n",
        "\n",
        ". RETURN VALUE:\tReturns a generator object (an iterator)\n",
        "\n",
        ".LAZY EVALUATION-Computes values on the fly\n",
        "\n",
        ".Example of regular function:-\n",
        "\n",
        "def get_numbers():\n",
        "    return [i for i in range(1000000)]\n",
        "\n",
        ".Example of genertor function:-\n",
        "\n",
        "def get_numbers():\n",
        "    for i in range(1000000):\n",
        "        yield i\n"
      ],
      "metadata": {
        "id": "Mvx8ozd9tXI-"
      }
    },
    {
      "cell_type": "markdown",
      "source": [
        "***8.What is a lambda function in Python and when is it typically used?***\n",
        "\n",
        "* A lambda function in Python is a concise way to create anonymous functions, also known as lambda\n",
        "expressions.\n",
        "\n",
        "* Unlike regular functions defined using the def keyword, lambda functions are often used for short-term\n",
        "operations and are defined in a single line.\n",
        "Example:-add = lambda x, y: x + y\n",
        "result = add(3, 4)\n",
        "print(result) # Output: 7\n"
      ],
      "metadata": {
        "id": "9CLLQzkHslyJ"
      }
    },
    {
      "cell_type": "markdown",
      "source": [
        "***9. Explain the purpose and usage of the `map()` function in Python.***\n",
        "* The `map()` function executes a specified function for each item in an `iterable`. The item is sent to thefunction as a parameter. The map() function in Python is a built-in function that applies a given function to all the items in an iterable(e.g., a list) and returns an iterable map object (an iterator) of the results.\n",
        "Example:- numbers = [1, 2, 3, 4, 5]\n",
        "squared_numbers = list(map(lambda x: x**2, numbers))\n",
        "print(squared_numbers)\n",
        "* Output: [1, 4, 9, 16, 25]"
      ],
      "metadata": {
        "id": "8RYwqmfNv80h"
      }
    },
    {
      "cell_type": "markdown",
      "source": [
        "***10. What is the difference between `map()`, `reduce()`, and `filter()` functions in Python?***\n",
        "* 1.Map function- Applies a function to each item in the iterable and returns a new iterator with the results.\n",
        "\n",
        "Example:- nums = [1, 2, 3, 4]\n",
        "squared = map(lambda x: x**2, nums)\n",
        "print(list(squared))  # Output: [1, 4, 9, 16]\n",
        "\n",
        "*2.Reduce function- Applies a function cumulatively to the items of an iterable, reducing it to a single value.\n",
        "\n",
        "Example:-from functools import reduce\n",
        "\n",
        "nums = [1, 2, 3, 4]\n",
        "product = reduce(lambda x, y: x * y, nums)\n",
        "print(product)  # Output: 24\n",
        "\n",
        "*3.Filter function- Filters out items from the iterable for which the function returns.\n",
        "\n",
        "Example:- nums = [1, 2, 3, 4, 5]\n",
        "even = filter(lambda x: x % 2 == 0, nums)\n",
        "print(list(even))  # Output: [2, 4]\n",
        "\n"
      ],
      "metadata": {
        "id": "Z67izURsykp-"
      }
    },
    {
      "cell_type": "markdown",
      "source": [
        "***11. Using pen & Paper write the internal mechanism for sum operation using  reduce function on this givenlist:[47,11,42,13];***\n",
        "![WhatsApp Image 2025-07-28 at 12.28.43 PM.jpeg](data:image/jpeg;base64,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)"
      ],
      "metadata": {
        "id": "eR4EOfi-zkpW"
      }
    },
    {
      "cell_type": "markdown",
      "source": [
        "# ***Practical Questions***"
      ],
      "metadata": {
        "id": "ezHppugi1TPP"
      }
    },
    {
      "cell_type": "markdown",
      "source": [
        "***1. Write a Python function that takes a list of numbers as input and returns the sum of all even numbers in\n",
        "the list.***"
      ],
      "metadata": {
        "id": "l7LWhpc02JzA"
      }
    },
    {
      "cell_type": "code",
      "source": [
        "def sum_of_even_numbers(numbers):\n",
        "    even_sum = 0\n",
        "    for num in numbers:\n",
        "        if num % 2 == 0:\n",
        "            even_sum += num\n",
        "    return even_sum\n",
        "\n",
        "my_list = [1, 2, 3, 4, 5, 6]\n",
        "result = sum_of_even_numbers(my_list)\n",
        "print(\"Sum of even numbers:\", result)\n",
        "\n"
      ],
      "metadata": {
        "colab": {
          "base_uri": "https://localhost:8080/"
        },
        "id": "bfesYh7z16bQ",
        "outputId": "6db13d14-cc5d-4150-949b-e786afe6d6ed"
      },
      "execution_count": 1,
      "outputs": [
        {
          "output_type": "stream",
          "name": "stdout",
          "text": [
            "Sum of even numbers: 12\n"
          ]
        }
      ]
    },
    {
      "cell_type": "markdown",
      "source": [
        "***2. Create a Python function that accepts a string and returns the reverse of that string.***"
      ],
      "metadata": {
        "id": "0JhrTVO02yJT"
      }
    },
    {
      "cell_type": "code",
      "source": [
        "def reverse_string(text):\n",
        "    return text[::-1]\n",
        "\n",
        "result = reverse_string(\"hello\")\n",
        "print(\"Reversed string:\", result)\n"
      ],
      "metadata": {
        "colab": {
          "base_uri": "https://localhost:8080/"
        },
        "id": "7vZCND4i2seI",
        "outputId": "3a97f926-a033-4a32-fa73-55a36461a276"
      },
      "execution_count": 2,
      "outputs": [
        {
          "output_type": "stream",
          "name": "stdout",
          "text": [
            "Reversed string: olleh\n"
          ]
        }
      ]
    },
    {
      "cell_type": "markdown",
      "source": [
        "***3. Implement a Python function that takes a list of integers and returns a new list containing the squares of\n",
        "each number.***"
      ],
      "metadata": {
        "id": "Nd8gnWky2_q0"
      }
    },
    {
      "cell_type": "code",
      "source": [
        "def square_numbers(numbers):\n",
        "    return [num ** 2 for num in numbers]\n",
        "my_list = [1, 2, 3, 4, 5]\n",
        "result = square_numbers(my_list)\n",
        "print(\"Squared numbers:\", result)\n"
      ],
      "metadata": {
        "colab": {
          "base_uri": "https://localhost:8080/"
        },
        "id": "bH_QA-Om2-Ul",
        "outputId": "20183e9c-6c2d-45cf-8046-68c57a1d4224"
      },
      "execution_count": 3,
      "outputs": [
        {
          "output_type": "stream",
          "name": "stdout",
          "text": [
            "Squared numbers: [1, 4, 9, 16, 25]\n"
          ]
        }
      ]
    },
    {
      "cell_type": "markdown",
      "source": [
        "***4. Write a Python function that checks if a given number is prime or not from 1 to 200.***"
      ],
      "metadata": {
        "id": "oTtM5JxP3OQk"
      }
    },
    {
      "cell_type": "code",
      "source": [
        "def is_prime(num):\n",
        "    if num <= 1 or num > 200:\n",
        "        return False\n",
        "    if num == 2:\n",
        "        return True\n",
        "    if num % 2 == 0:\n",
        "        return False\n",
        "    for i in range(3, int(num ** 0.5) + 1, 2):\n",
        "        if num % i == 0:\n",
        "            return False\n",
        "    return True\n",
        "\n",
        "for n in [1, 2, 17, 50, 199, 201]:\n",
        "    print(f\"{n} is prime? {is_prime(n)}\")\n"
      ],
      "metadata": {
        "colab": {
          "base_uri": "https://localhost:8080/"
        },
        "id": "ez_pmqgQ3MWa",
        "outputId": "7b96f0b0-2a40-4c44-8b85-5a2936d76235"
      },
      "execution_count": 4,
      "outputs": [
        {
          "output_type": "stream",
          "name": "stdout",
          "text": [
            "1 is prime? False\n",
            "2 is prime? True\n",
            "17 is prime? True\n",
            "50 is prime? False\n",
            "199 is prime? True\n",
            "201 is prime? False\n"
          ]
        }
      ]
    },
    {
      "cell_type": "markdown",
      "source": [
        "***5. Create an iterator class in Python that generates the Fibonacci sequence up to a specified number of\n",
        "terms***"
      ],
      "metadata": {
        "id": "3GqOQIBw3eIn"
      }
    },
    {
      "cell_type": "code",
      "source": [
        "class FibonacciIterator:\n",
        "    def __init__(self, n_terms):\n",
        "        self.n_terms = n_terms  # Total terms to generate\n",
        "        self.index = 0          # Current position in sequence\n",
        "        self.a, self.b = 0, 1   # Starting values of Fibonacci sequence\n",
        "\n",
        "    def __iter__(self):\n",
        "        return self\n",
        "\n",
        "    def __next__(self):\n",
        "        if self.index >= self.n_terms:\n",
        "            raise StopIteration\n",
        "\n",
        "        if self.index == 0:\n",
        "            self.index += 1\n",
        "            return 0\n",
        "\n",
        "        elif self.index == 1:\n",
        "            self.index += 1\n",
        "            return 1\n",
        "\n",
        "        else:\n",
        "            self.a, self.b = self.b, self.a + self.b\n",
        "            self.index += 1\n",
        "            return self.a\n",
        "\n",
        "fib = FibonacciIterator(10)\n",
        "\n",
        "for num in fib:\n",
        "    print(num, end=' ')\n"
      ],
      "metadata": {
        "colab": {
          "base_uri": "https://localhost:8080/"
        },
        "id": "CmtHGbv43bA_",
        "outputId": "b4fbb893-b07b-4a3b-a606-f0d0d3d93dca"
      },
      "execution_count": 6,
      "outputs": [
        {
          "output_type": "stream",
          "name": "stdout",
          "text": [
            "0 1 1 1 2 3 5 8 13 21 "
          ]
        }
      ]
    },
    {
      "cell_type": "markdown",
      "source": [
        "***6. Write a generator function in Python that yields the powers of 2 up to a given exponent***"
      ],
      "metadata": {
        "id": "eLaEdlg13uz8"
      }
    },
    {
      "cell_type": "code",
      "source": [
        "def powers_of_two(max_exponent):\n",
        "    for exp in range(max_exponent + 1):\n",
        "        yield 2 ** exp\n",
        "for value in powers_of_two(5):\n",
        "    print(value, end=' ')\n"
      ],
      "metadata": {
        "colab": {
          "base_uri": "https://localhost:8080/"
        },
        "id": "r1By7Zfl3tbZ",
        "outputId": "d2117af3-956c-423d-f8d7-c9b19dab0289"
      },
      "execution_count": 7,
      "outputs": [
        {
          "output_type": "stream",
          "name": "stdout",
          "text": [
            "1 2 4 8 16 32 "
          ]
        }
      ]
    },
    {
      "cell_type": "markdown",
      "source": [
        "***7. Implement a generator function that reads a file line by line and yields each line as a string***"
      ],
      "metadata": {
        "id": "2oMpZCzM36ws"
      }
    },
    {
      "cell_type": "code",
      "source": [
        "def read_file_line_by_line(file_path):\n",
        "    with open(file_path, 'r') as file:\n",
        "        for line in file:\n",
        "            yield line.rstrip('\\n')\n",
        "for line in read_file_line_by_line(file_path):\n",
        "    print(line)"
      ],
      "metadata": {
        "id": "qIYtwVne4RXt"
      },
      "execution_count": null,
      "outputs": []
    },
    {
      "cell_type": "markdown",
      "source": [
        "***8. Use a lambda function in Python to sort a list of tuples based on the second element of each tuple.***"
      ],
      "metadata": {
        "id": "h87ybPib4467"
      }
    },
    {
      "cell_type": "code",
      "source": [
        "# Sample list of tuples\n",
        "data = [(1, 5), (3, 1), (4, 7), (2, 3)]\n",
        "\n",
        "# Sort based on the second element of each tuple\n",
        "sorted_data = sorted(data, key=lambda x: x[1])\n",
        "\n",
        "print(sorted_data)\n"
      ],
      "metadata": {
        "colab": {
          "base_uri": "https://localhost:8080/"
        },
        "id": "ahWmecYN4i-p",
        "outputId": "f459a8e3-cee6-4274-dfe3-7da87fcae37e"
      },
      "execution_count": 15,
      "outputs": [
        {
          "output_type": "stream",
          "name": "stdout",
          "text": [
            "[(3, 1), (2, 3), (1, 5), (4, 7)]\n"
          ]
        }
      ]
    },
    {
      "cell_type": "markdown",
      "source": [
        "***9. Write a Python program that uses `map()` to convert a list of temperatures from Celsius to Fahrenheit.***"
      ],
      "metadata": {
        "id": "IPH1e-3O5Fe-"
      }
    },
    {
      "cell_type": "code",
      "source": [
        "# List of temperatures in Celsius\n",
        "celsius_temps = [0, 20, 30, 37, 100]\n",
        "\n",
        "# Convert to Fahrenheit using map() and a lambda function\n",
        "fahrenheit_temps = list(map(lambda c: (c * 9/5) + 32, celsius_temps))\n",
        "\n",
        "# Print the result\n",
        "print(\"Fahrenheit temperatures:\", fahrenheit_temps)\n"
      ],
      "metadata": {
        "colab": {
          "base_uri": "https://localhost:8080/"
        },
        "id": "GfETmXIz5PW-",
        "outputId": "703e39b8-706e-413c-ebff-1e185592b388"
      },
      "execution_count": 17,
      "outputs": [
        {
          "output_type": "stream",
          "name": "stdout",
          "text": [
            "Fahrenheit temperatures: [32.0, 68.0, 86.0, 98.6, 212.0]\n"
          ]
        }
      ]
    },
    {
      "cell_type": "markdown",
      "source": [
        "***10. Create a Python program that uses `filter()` to remove all the vowels from a given string.***"
      ],
      "metadata": {
        "id": "rhwoqe3W5Xvn"
      }
    },
    {
      "cell_type": "code",
      "source": [
        "def remove_vowels(input_str):\n",
        "    vowels = 'aeiouAEIOU'\n",
        "    return ''.join(filter(lambda char: char not in vowels, input_str))\n",
        "\n",
        "# Example usage\n",
        "text = \"Hello World, Python is Awesome!\"\n",
        "result = remove_vowels(text)\n",
        "\n",
        "print(\"String without vowels:\", result)\n"
      ],
      "metadata": {
        "colab": {
          "base_uri": "https://localhost:8080/"
        },
        "id": "3MXO1T0X3nuE",
        "outputId": "e25700a2-78df-4175-92bb-d5fca9fad560"
      },
      "execution_count": 18,
      "outputs": [
        {
          "output_type": "stream",
          "name": "stdout",
          "text": [
            "String without vowels: Hll Wrld, Pythn s wsm!\n"
          ]
        }
      ]
    },
    {
      "cell_type": "markdown",
      "source": [
        "***11) Imagine an accounting routine used in a book shop. It works on a list with sublists, which look like this:\n",
        "\n",
        "\n",
        "\n",
        "\n",
        "\n",
        "\n",
        "\n",
        "Write a Python program, which returns a list with 2-tuples. Each tuple consists of the order number and the\n",
        "product of the price per item and the quantity. The product should be increased by 10,- € if the value of the\n",
        "order is smaller than 100,00 €.\n",
        "\n",
        "Write a Python program using lambda and map.***"
      ],
      "metadata": {
        "id": "14q2Eg_r5jqk"
      }
    },
    {
      "cell_type": "code",
      "source": [
        "\n",
        "\n",
        "orders = [\n",
        "    [34587, 'Learning Python, Mark Lutz', 4, 40.95],\n",
        "    [98762, 'Programming Python, Mark Lutz', 5, 56.80],\n",
        "    [77226, 'Head First Python, Paul Barry', 3, 32.95],\n",
        "    [88112, 'Einführung in Python3, Bernd Klein', 3, 24.99]\n",
        "]\n",
        "\n",
        "# Lambda + map to compute the required result\n",
        "final_orders = list(map(\n",
        "    lambda order: (order[0], round(order[2] * order[3] + (10 if order[2] * order[3] < 100 else 0), 2)),\n",
        "    orders\n",
        "))\n",
        "\n",
        "print(final_orders)\n"
      ],
      "metadata": {
        "colab": {
          "base_uri": "https://localhost:8080/"
        },
        "id": "OOyLCI665fiR",
        "outputId": "1ff7d943-34ae-4e28-ec4b-c95f40f93212"
      },
      "execution_count": 19,
      "outputs": [
        {
          "output_type": "stream",
          "name": "stdout",
          "text": [
            "[(34587, 163.8), (98762, 284.0), (77226, 108.85), (88112, 84.97)]\n"
          ]
        }
      ]
    }
  ]
}